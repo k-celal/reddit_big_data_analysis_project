{
 "cells": [
  {
   "cell_type": "code",
   "execution_count": 42,
   "metadata": {},
   "outputs": [],
   "source": [
    "import json\n",
    "\n",
    "with open('apikey.json') as f:\n",
    "    data = json.load(f)\n",
    "    api_key = data['key']\n",
    "    client_id = data['client_id']\n",
    "    user_agent = data['user_agent']\n",
    "\n"
   ]
  },
  {
   "cell_type": "code",
   "execution_count": 43,
   "metadata": {},
   "outputs": [],
   "source": [
    "import praw"
   ]
  },
  {
   "cell_type": "code",
   "execution_count": 56,
   "metadata": {},
   "outputs": [],
   "source": [
    "import os \n",
    "import sys\n",
    "\n",
    "os.environ['PYSPARK_PYTHON'] = sys.executable\n",
    "\n",
    "os.environ['PYSPARK_DRIVER_PYTHON'] = sys.executable"
   ]
  },
  {
   "cell_type": "code",
   "execution_count": 45,
   "metadata": {},
   "outputs": [],
   "source": [
    "\n",
    "# PRAW ile Reddit'e bağlan\n",
    "reddit = praw.Reddit(\n",
    "    client_id=client_id,\n",
    "    client_secret=api_key,\n",
    "    user_agent=user_agent\n",
    ")\n",
    "\n"
   ]
  },
  {
   "cell_type": "code",
   "execution_count": 46,
   "metadata": {},
   "outputs": [],
   "source": [
    "submissions = []\n",
    "\n",
    "subreddit = reddit.subreddit('COVID19')\n",
    "for submission in subreddit.hot(limit=20):\n",
    "    submissions.append(submission)\n",
    "\n",
    "\n",
    "subs = []\n",
    "for submission in submissions:\n",
    "    dict_item={\n",
    "        \"id\":submission.id,\n",
    "        \"title\":submission.title if submission.title else \"\" ,\n",
    "        \"author\":submission.author.name if submission.author else \"\",\n",
    "        \"selftext\":submission.selftext if submission.selftext else \"nul\",\n",
    "        \"subreddit\":submission.subreddit.display_name if submission.subreddit else \"\",\n",
    "        \"score\":submission.score if submission.score else \"\"\n",
    "    }\n",
    "    subs.append(dict_item)"
   ]
  },
  {
   "cell_type": "code",
   "execution_count": 53,
   "metadata": {},
   "outputs": [
    {
     "data": {
      "text/plain": [
       "'c:\\\\Users\\\\akdag\\\\anaconda3\\\\envs\\\\bvaProject\\\\lib\\\\site-packages\\\\pyspark'"
      ]
     },
     "execution_count": 53,
     "metadata": {},
     "output_type": "execute_result"
    }
   ],
   "source": [
    "import findspark \n",
    "\n",
    "findspark.init()\n",
    "findspark.find()"
   ]
  },
  {
   "cell_type": "code",
   "execution_count": 58,
   "metadata": {},
   "outputs": [
    {
     "name": "stdout",
     "output_type": "stream",
     "text": [
      "3.5.1\n"
     ]
    }
   ],
   "source": [
    "import pyspark\n",
    "from pyspark.sql import SparkSession\n",
    "from pyspark.conf import SparkConf\n",
    "from pyspark.sql.types import *\n",
    "from pyspark.sql import Row\n",
    "\n",
    "print(pyspark.__version__)\n"
   ]
  },
  {
   "cell_type": "code",
   "execution_count": 55,
   "metadata": {},
   "outputs": [],
   "source": [
    "spark = SparkSession.builder.master(\"local[3]\").appName(\"Spark\").getOrCreate()\n",
    "\n",
    "sc = spark.sparkContext\n",
    "spark.conf.set(\"spark.sql.execution.arrow.pyspark.enabled\", \"true\")"
   ]
  },
  {
   "cell_type": "code",
   "execution_count": 61,
   "metadata": {},
   "outputs": [
    {
     "name": "stdout",
     "output_type": "stream",
     "text": [
      "[{'id': '1bt1uhx', 'title': 'Monthly Scientific Discussion Thread - April 2024', 'author': 'AutoModerator', 'selftext': 'This monthly thread is for scientific discussion pertaining to COVID-19.  Please post questions about the science of this virus and disease here  to collect them for others and clear up post space for research  articles.\\n\\nA short reminder about our rules: Speculation about medical treatments  and questions about  medical or travel advice will have to be removed and  referred to  official guidance as we do not and cannot guarantee that all information in this thread is correct.\\n\\nWe ask for top level answers in this thread to be appropriately sourced  using primarily peer-reviewed articles and government agency releases,  both to be able to verify the postulated information, and to facilitate further reading.\\n\\nPlease only respond to questions that you are comfortable in answering without having to involve guessing or speculation. Answers that strongly misinterpret the quoted articles might be removed and repeated offenses might result in muting a user.\\n\\nIf you have any suggestions or feedback, please [send us a modmail](https://www.reddit.com/message/compose?to=/r/covid19), we highly appreciate it.\\n\\nPlease keep questions focused on the science. Stay curious!', 'subreddit': 'COVID19', 'score': 11}, {'id': '1cf6cdi', 'title': 'The impact of COVID vaccination on incidence of long COVID and healthcare resource utilisation in a primary care cohort in England, 2021-2022', 'author': 'BillyGrier', 'selftext': 'nul', 'subreddit': 'COVID19', 'score': 42}, {'id': '1cez1y6', 'title': 'An amyloidogenic fragment of the SARS CoV-2 envelope protein promotes serum amyloid A misfolding and fibrillization', 'author': 'BillyGrier', 'selftext': 'nul', 'subreddit': 'COVID19', 'score': 23}, {'id': '1cdt4km', 'title': 'Statement on the antigen composition of COVID-19 vaccines', 'author': 'jason5552', 'selftext': 'nul', 'subreddit': 'COVID19', 'score': 28}, {'id': '1cd7vlx', 'title': 'Ambient carbon dioxide concentration correlates with SARS-CoV-2 aerostability and infection risk', 'author': 'hexagonincircuit1594', 'selftext': 'nul', 'subreddit': 'COVID19', 'score': 36}, {'id': '1ccr738', 'title': 'COVID-19 Vaccination and Incidence of Pediatric SARS-CoV-2 Infection and Hospitalization', 'author': 'hexagonincircuit1594', 'selftext': 'nul', 'subreddit': 'COVID19', 'score': 21}, {'id': '1cb5ov3', 'title': 'The persistence of SARS-CoV-2 in tissues and its association with long COVID symptoms: a cross-sectional cohort study in China', 'author': 'hexagonincircuit1594', 'selftext': 'nul', 'subreddit': 'COVID19', 'score': 55}, {'id': '1cb7gzv', 'title': 'Humoral immunogenicity comparison of XBB and JN.1 in human infections', 'author': 'hexagonincircuit1594', 'selftext': 'nul', 'subreddit': 'COVID19', 'score': 9}, {'id': '1callvb', 'title': 'Intranasal neomycin evokes broad-spectrum antiviral immunity in the upper respiratory tract', 'author': 'hexagonincircuit1594', 'selftext': 'nul', 'subreddit': 'COVID19', 'score': 58}, {'id': '1cagxtu', 'title': 'Effect of molnupiravir on SARS-CoV-2 evolution in immunocompromised patients: a retrospective observational study', 'author': 'FranciscoDankonia', 'selftext': 'nul', 'subreddit': 'COVID19', 'score': 14}, {'id': '1c8s8cx', 'title': 'Substantial transmission of SARS-CoV-2 through casual contact in retail stores: Evidence from matched administrative microdata on card payments and testing', 'author': 'hexagonincircuit1594', 'selftext': 'nul', 'subreddit': 'COVID19', 'score': 97}, {'id': '1c8luyx', 'title': 'Accurate evaluation of live-virus microneutralisation for SARS-CoV-2 variant JN.1', 'author': 'JaneSteinberg', 'selftext': 'nul', 'subreddit': 'COVID19', 'score': 15}, {'id': '1c73za3', 'title': 'Evidence from Whole Genome Sequencing of Aerosol Transmission of SARS-CoV-2 almost Five Hours after Hospital Room Turnover', 'author': 'hexagonincircuit1594', 'selftext': 'nul', 'subreddit': 'COVID19', 'score': 83}, {'id': '1c7ehub', 'title': 'Improvement of immune dysregulation in individuals with long COVID at 24-months following SARS-CoV-2 infection', 'author': 'ThreeQueensReading', 'selftext': 'nul', 'subreddit': 'COVID19', 'score': 18}, {'id': '1c6kagh', 'title': 'Assessing the impact of Australia’s mass vaccination campaigns over the Delta and Omicron outbreaks', 'author': 'ThreeQueensReading', 'selftext': 'nul', 'subreddit': 'COVID19', 'score': 33}, {'id': '1c4wq9r', 'title': 'Enhanced mucosal B- and T-cell responses against SARS-CoV-2 after heterologous intramuscular mRNA prime/intranasal protein boost vaccination with a combination adjuvant', 'author': 'Luisrm01', 'selftext': 'nul', 'subreddit': 'COVID19', 'score': 18}, {'id': '1c3lwmd', 'title': 'Stanford Medicine study flags unexpected cells in lung as suspected source of severe COVID', 'author': 'CitrusSphere', 'selftext': 'nul', 'subreddit': 'COVID19', 'score': 87}, {'id': '1c298k3', 'title': 'Interstitial macrophages are a focus of viral takeover and inflammation in COVID-19 initiation in human lung', 'author': 'hexagonincircuit1594', 'selftext': 'nul', 'subreddit': 'COVID19', 'score': 40}, {'id': '1c02ixf', 'title': 'Protection of natural infection against reinfection with SARS-CoV-2 JN.1 variant', 'author': 'ThreeQueensReading', 'selftext': 'nul', 'subreddit': 'COVID19', 'score': 40}, {'id': '1bzz5u8', 'title': 'Plasma-based antigen persistence in the post-acute phase of COVID-19', 'author': 'hexagonincircuit1594', 'selftext': 'nul', 'subreddit': 'COVID19', 'score': 34}]\n"
     ]
    }
   ],
   "source": [
    "print(subs)\n",
    "\n",
    "import pandas as pd\n",
    "\n",
    "subs_df = pd.DataFrame(subs)\n"
   ]
  },
  {
   "cell_type": "code",
   "execution_count": 9,
   "metadata": {},
   "outputs": [
    {
     "name": "stdout",
     "output_type": "stream",
     "text": [
      "3.5.1\n"
     ]
    }
   ],
   "source": [
    "import pyspark\n",
    "print(pyspark.__version__)"
   ]
  },
  {
   "cell_type": "code",
   "execution_count": 66,
   "metadata": {},
   "outputs": [
    {
     "name": "stdout",
     "output_type": "stream",
     "text": [
      "+-------+--------------------+--------------------+--------------------+---------+-----+\n",
      "|     id|               title|              author|            selftext|subreddit|score|\n",
      "+-------+--------------------+--------------------+--------------------+---------+-----+\n",
      "|1bt1uhx|Monthly Scientifi...|       AutoModerator|This monthly thre...|  COVID19|   11|\n",
      "|1cf6cdi|The impact of COV...|          BillyGrier|                 nul|  COVID19|   42|\n",
      "|1cez1y6|An amyloidogenic ...|          BillyGrier|                 nul|  COVID19|   23|\n",
      "|1cdt4km|Statement on the ...|           jason5552|                 nul|  COVID19|   28|\n",
      "|1cd7vlx|Ambient carbon di...|hexagonincircuit1594|                 nul|  COVID19|   36|\n",
      "|1ccr738|COVID-19 Vaccinat...|hexagonincircuit1594|                 nul|  COVID19|   21|\n",
      "|1cb5ov3|The persistence o...|hexagonincircuit1594|                 nul|  COVID19|   55|\n",
      "|1cb7gzv|Humoral immunogen...|hexagonincircuit1594|                 nul|  COVID19|    9|\n",
      "|1callvb|Intranasal neomyc...|hexagonincircuit1594|                 nul|  COVID19|   58|\n",
      "|1cagxtu|Effect of molnupi...|   FranciscoDankonia|                 nul|  COVID19|   14|\n",
      "|1c8s8cx|Substantial trans...|hexagonincircuit1594|                 nul|  COVID19|   97|\n",
      "|1c8luyx|Accurate evaluati...|       JaneSteinberg|                 nul|  COVID19|   15|\n",
      "|1c73za3|Evidence from Who...|hexagonincircuit1594|                 nul|  COVID19|   83|\n",
      "|1c7ehub|Improvement of im...|  ThreeQueensReading|                 nul|  COVID19|   18|\n",
      "|1c6kagh|Assessing the imp...|  ThreeQueensReading|                 nul|  COVID19|   33|\n",
      "|1c4wq9r|Enhanced mucosal ...|            Luisrm01|                 nul|  COVID19|   18|\n",
      "|1c3lwmd|Stanford Medicine...|        CitrusSphere|                 nul|  COVID19|   87|\n",
      "|1c298k3|Interstitial macr...|hexagonincircuit1594|                 nul|  COVID19|   40|\n",
      "|1c02ixf|Protection of nat...|  ThreeQueensReading|                 nul|  COVID19|   40|\n",
      "|1bzz5u8|Plasma-based anti...|hexagonincircuit1594|                 nul|  COVID19|   34|\n",
      "+-------+--------------------+--------------------+--------------------+---------+-----+\n",
      "\n"
     ]
    }
   ],
   "source": [
    "df = spark.createDataFrame(subs_df)\n",
    "df.show()\n",
    "\n",
    "\n",
    "\n"
   ]
  }
 ],
 "metadata": {
  "kernelspec": {
   "display_name": "bvaProject",
   "language": "python",
   "name": "python3"
  },
  "language_info": {
   "codemirror_mode": {
    "name": "ipython",
    "version": 3
   },
   "file_extension": ".py",
   "mimetype": "text/x-python",
   "name": "python",
   "nbconvert_exporter": "python",
   "pygments_lexer": "ipython3",
   "version": "3.9.19"
  }
 },
 "nbformat": 4,
 "nbformat_minor": 2
}
