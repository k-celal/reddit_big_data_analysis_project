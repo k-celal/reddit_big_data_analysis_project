{
 "cells": [
  {
   "cell_type": "code",
   "execution_count": null,
   "metadata": {},
   "outputs": [],
   "source": [
    "import json\n",
    "with open('mongo.json') as m:\n",
    "    data = json.load(m)\n",
    "    conn_string = data[\"connection_string\"]"
   ]
  },
  {
   "cell_type": "code",
   "execution_count": null,
   "metadata": {},
   "outputs": [],
   "source": [
    "import requests as req\n",
    "import time \n",
    "import random\n",
    "\n",
    "import pymongo\n",
    "mongo_client = pymongo.MongoClient(conn_string)\n",
    "\n",
    "mydb = mongo_client[\"bigData\"]"
   ]
  }
 ],
 "metadata": {
  "kernelspec": {
   "display_name": "bvaProject",
   "language": "python",
   "name": "python3"
  },
  "language_info": {
   "codemirror_mode": {
    "name": "ipython",
    "version": 3
   },
   "file_extension": ".py",
   "mimetype": "text/x-python",
   "name": "python",
   "nbconvert_exporter": "python",
   "pygments_lexer": "ipython3",
   "version": "3.9.19"
  }
 },
 "nbformat": 4,
 "nbformat_minor": 2
}
