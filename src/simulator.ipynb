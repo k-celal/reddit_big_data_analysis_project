{
 "cells": [
  {
   "cell_type": "markdown",
   "metadata": {},
   "source": [
    "# Kütüphanelerin İmport Edilmesi"
   ]
  },
  {
   "cell_type": "code",
   "execution_count": 1,
   "metadata": {},
   "outputs": [],
   "source": [
    "import pyspark \n",
    "from pyspark.sql import SparkSession\n",
    "from pyspark.sql.functions import rand\n",
    "import nltk\n",
    "nltk.download('punkt')\n",
    "nltk.download('stopwords')\n",
    "import string\n",
    "from nltk.tokenize import word_tokenize\n",
    "from nltk.corpus import stopwords\n",
    "import numpy as np\n",
    "\n"
   ]
  },
  {
   "cell_type": "markdown",
   "metadata": {},
   "source": [
    "# Spark Ortamının Hazırlanması"
   ]
  },
  {
   "cell_type": "code",
   "execution_count": null,
   "metadata": {},
   "outputs": [],
   "source": [
    "spark = SparkSession.builder.appName(\"simulator\").master(\"local\").config(\"spark.driver.memory\", \"40g\") \\\n",
    "  .config(\"spark.executor.memory\", \"50g\").getOrCreate()"
   ]
  },
  {
   "cell_type": "code",
   "execution_count": null,
   "metadata": {},
   "outputs": [],
   "source": [
    "import json\n",
    "\n",
    "with open('apikey.json') as f:\n",
    "    data = json.load(f)\n",
    "    api_key = data['key']\n",
    "    client_id = data['client_id']\n",
    "    user_agent = data['user_agent']\n",
    "\n",
    "with open('mongo.json') as m:\n",
    "    data = json.load(m)\n",
    "    conn_string = data[\"connection_string\"]"
   ]
  },
  {
   "cell_type": "code",
   "execution_count": null,
   "metadata": {},
   "outputs": [
    {
     "name": "stdout",
     "output_type": "stream",
     "text": [
      "+-----------------+\n",
      "|       Subreddits|\n",
      "+-----------------+\n",
      "|        liseliler|\n",
      "|        Hacettepe|\n",
      "|          Yatirim|\n",
      "|           kripto|\n",
      "|           Finans|\n",
      "|         Videoyun|\n",
      "|  androidoyunclub|\n",
      "|       burdurland|\n",
      "|            Kafes|\n",
      "|sariyerbelediyesi|\n",
      "|      TurkeyJerky|\n",
      "+-----------------+\n",
      "\n"
     ]
    }
   ],
   "source": [
    "df = spark.read.csv(\"turkish-subreddits.csv\", header=True)\n",
    "df.show()"
   ]
  },
  {
   "cell_type": "code",
   "execution_count": null,
   "metadata": {},
   "outputs": [
    {
     "data": {
      "text/plain": [
       "'TurkeyJerky'"
      ]
     },
     "execution_count": 7,
     "metadata": {},
     "output_type": "execute_result"
    }
   ],
   "source": [
    "df_with_random = df.withColumn(\"random\", rand())\n",
    "random_row_1 = df_with_random.orderBy(\"random\").limit(1)\n",
    "random_row_1.head()[\"Subreddits\"]"
   ]
  },
  {
   "cell_type": "markdown",
   "metadata": {},
   "source": [
    "# Praw kütüphanesi kullanılarak reddit veri çekilmesi"
   ]
  },
  {
   "cell_type": "code",
   "execution_count": null,
   "metadata": {},
   "outputs": [],
   "source": [
    "import praw"
   ]
  },
  {
   "cell_type": "code",
   "execution_count": null,
   "metadata": {},
   "outputs": [],
   "source": [
    "# PRAW ile Reddit'e bağlan\n",
    "reddit = praw.Reddit(\n",
    "    client_id=client_id,\n",
    "    client_secret=api_key,\n",
    "    user_agent=user_agent\n",
    ")\n"
   ]
  },
  {
   "cell_type": "code",
   "execution_count": null,
   "metadata": {},
   "outputs": [],
   "source": [
    "import requests as req\n",
    "import time \n",
    "import random\n",
    "\n",
    "import pymongo"
   ]
  },
  {
   "cell_type": "code",
   "execution_count": null,
   "metadata": {},
   "outputs": [],
   "source": [
    "mongo_client = pymongo.MongoClient(conn_string)\n",
    "\n",
    "mydb = mongo_client[\"bigData\"]"
   ]
  },
  {
   "cell_type": "markdown",
   "metadata": {},
   "source": [
    "# Verinin geçeceği transform işlemi"
   ]
  },
  {
   "cell_type": "code",
   "execution_count": null,
   "metadata": {},
   "outputs": [],
   "source": [
    "def preprocess_text(text):\n",
    "    text = text.translate(str.maketrans('', '', string.punctuation))\n",
    "    \n",
    "    text = text.lower()\n",
    "    \n",
    "    text = ' '.join(text.split())\n",
    "    \n",
    "    return text"
   ]
  },
  {
   "cell_type": "code",
   "execution_count": null,
   "metadata": {},
   "outputs": [],
   "source": [
    "def remove_stopwords(text):\n",
    "    tokens = word_tokenize(text)\n",
    "    \n",
    "    stop_words = set(stopwords.words('turkish'))\n",
    "    \n",
    "    filtered_tokens = [token for token in tokens if token.lower() not in stop_words]\n",
    "    \n",
    "    filtered_text = ' '.join(filtered_tokens)\n",
    "    \n",
    "    return filtered_text"
   ]
  },
  {
   "cell_type": "code",
   "execution_count": null,
   "metadata": {},
   "outputs": [],
   "source": [
    "def Transformation(submission_data):\n",
    "    # Eğer selftext değişkeni boşsa\n",
    "    if not submission_data[\"selftext\"]:\n",
    "        # subreddit_name değişkenini selftext olarak kullan\n",
    "        submission_data[\"selftext\"] = submission_data[\"subreddit_name\"]\n",
    "    submission_data[\"selftext\"] = remove_stopwords(preprocess_text(submission_data[\"selftext\"]))\n",
    "    submission_data[\"title\"] = remove_stopwords(preprocess_text(submission_data[\"title\"]))\n",
    "    return submission_data"
   ]
  },
  {
   "cell_type": "markdown",
   "metadata": {},
   "source": [
    "# Sentiment tahmini için Apiye istek atılması"
   ]
  },
  {
   "cell_type": "code",
   "execution_count": null,
   "metadata": {},
   "outputs": [],
   "source": [
    "def request_submission(submission_data):\n",
    "    url = \"http://192.168.0.159:8080/sentiment\"  \n",
    "\n",
    "    if not submission_data.get(\"selftext\"):\n",
    "        submission_data[\"selftext\"] = submission_data[\"title\"]\n",
    "\n",
    "    body = {\n",
    "        \"text\" : submission_data[\"selftext\"]\n",
    "    }\n",
    "\n",
    "    \n",
    "    # JSON verisini oluştur\n",
    "    payload = json.dumps(body)\n",
    "    \n",
    "    # POST isteği gönder\n",
    "    response = req.post(url, data=payload, headers={'Content-Type': 'application/json'})\n",
    "    \n",
    "    # Yanıtı kontrol et\n",
    "    if response.status_code == 200:\n",
    "        #print(\"Submission successfully posted!\")\n",
    "        response_data = response.json()  # Yanıtı JSON formatında al\n",
    "        submission_data[\"sentiment\"] = response_data.get(\"sentiment\", -1)\n",
    "    else:\n",
    "        print(f\"Failed to post submission. Status code: {response.status_code}, Response: {response.text}\")\n",
    "\n",
    "    \n",
    "    return submission_data"
   ]
  },
  {
   "cell_type": "markdown",
   "metadata": {},
   "source": [
    "# Main"
   ]
  },
  {
   "cell_type": "code",
   "execution_count": null,
   "metadata": {},
   "outputs": [
    {
     "name": "stdout",
     "output_type": "stream",
     "text": [
      "-----önce------\n",
      "{'subreddit_name': 'TurkeyJerky', 'title': '%100 orjinal meme', 'permalink': '/r/TurkeyJerky/comments/1cmibl1/100_orjinal_meme/', 'selftext': ''}\n",
      "-------------sonra--------------------\n",
      "{'subreddit_name': 'TurkeyJerky', 'title': '%100 orjinal meme', 'permalink': '/r/TurkeyJerky/comments/1cmibl1/100_orjinal_meme/', 'selftext': '%100 orjinal meme', 'sentiment': 1}\n",
      "-----önce------\n",
      "{'subreddit_name': 'Finans', 'title': 'İşsizlik maaşı nasıl alınır? işsizlik ödeneğinden yararlanma şartları ne...', 'permalink': '/r/Finans/comments/16uif9c/işsizlik_maaşı_nasıl_alınır_işsizlik_ödeneğinden/', 'selftext': ''}\n",
      "-------------sonra--------------------\n",
      "{'subreddit_name': 'Finans', 'title': 'İşsizlik maaşı nasıl alınır? işsizlik ödeneğinden yararlanma şartları ne...', 'permalink': '/r/Finans/comments/16uif9c/işsizlik_maaşı_nasıl_alınır_işsizlik_ödeneğinden/', 'selftext': 'İşsizlik maaşı nasıl alınır? işsizlik ödeneğinden yararlanma şartları ne...', 'sentiment': 1}\n",
      "-----önce------\n",
      "{'subreddit_name': 'TurkeyJerky', 'title': 'Bu nasıl bi video amk', 'permalink': '/r/TurkeyJerky/comments/1crwe8h/bu_nasıl_bi_video_amk/', 'selftext': ''}\n",
      "-------------sonra--------------------\n",
      "{'subreddit_name': 'TurkeyJerky', 'title': 'Bu nasıl bi video amk', 'permalink': '/r/TurkeyJerky/comments/1crwe8h/bu_nasıl_bi_video_amk/', 'selftext': 'Bu nasıl bi video amk', 'sentiment': 1}\n",
      "-----önce------\n",
      "{'subreddit_name': 'kripto', 'title': 'Tron, Luna ile Aynı Kaderi Paylaşabilir mi? USDD İçin Harekete Geçti', 'permalink': '/r/kripto/comments/v64hj4/tron_luna_ile_aynı_kaderi_paylaşabilir_mi_usdd/', 'selftext': ''}\n",
      "-------------sonra--------------------\n",
      "{'subreddit_name': 'kripto', 'title': 'Tron, Luna ile Aynı Kaderi Paylaşabilir mi? USDD İçin Harekete Geçti', 'permalink': '/r/kripto/comments/v64hj4/tron_luna_ile_aynı_kaderi_paylaşabilir_mi_usdd/', 'selftext': 'Tron, Luna ile Aynı Kaderi Paylaşabilir mi? USDD İçin Harekete Geçti', 'sentiment': 1}\n",
      "-----önce------\n",
      "{'subreddit_name': 'kripto', 'title': '5 gün önce stake etmek için aldığım bir altcoin aşırı primlenmeye başladı. Sizce tamam mı diyeyim yoksa devam mı?', 'permalink': '/r/kripto/comments/1bg97a8/5_gün_önce_stake_etmek_için_aldığım_bir_altcoin/', 'selftext': ''}\n",
      "-------------sonra--------------------\n",
      "{'subreddit_name': 'kripto', 'title': '5 gün önce stake etmek için aldığım bir altcoin aşırı primlenmeye başladı. Sizce tamam mı diyeyim yoksa devam mı?', 'permalink': '/r/kripto/comments/1bg97a8/5_gün_önce_stake_etmek_için_aldığım_bir_altcoin/', 'selftext': '5 gün önce stake etmek için aldığım bir altcoin aşırı primlenmeye başladı. Sizce tamam mı diyeyim yoksa devam mı?', 'sentiment': 0}\n",
      "-----önce------\n",
      "{'subreddit_name': 'Videoyun', 'title': 'Nickname', 'permalink': '/r/Videoyun/comments/1bqow2f/nickname/', 'selftext': 'Kendime nick arıyorum sizce hangisini kulağa daha hoş geliyor\\n\\n[View Poll](https://www.reddit.com/poll/1bqow2f)'}\n",
      "-------------sonra--------------------\n",
      "{'subreddit_name': 'Videoyun', 'title': 'Nickname', 'permalink': '/r/Videoyun/comments/1bqow2f/nickname/', 'selftext': 'Kendime nick arıyorum sizce hangisini kulağa daha hoş geliyor\\n\\n[View Poll](https://www.reddit.com/poll/1bqow2f)', 'sentiment': 1}\n",
      "-----önce------\n",
      "{'subreddit_name': 'Hacettepe', 'title': '101 oynamak isteyen? ', 'permalink': '/r/Hacettepe/comments/1by9jpw/101_oynamak_isteyen/', 'selftext': 'Hocamlar bayram sebebiyle pek arkadaşım kalmadı buralarda 101 oynamak isteyen varsa ulaşabilir'}\n",
      "-------------sonra--------------------\n",
      "{'subreddit_name': 'Hacettepe', 'title': '101 oynamak isteyen? ', 'permalink': '/r/Hacettepe/comments/1by9jpw/101_oynamak_isteyen/', 'selftext': 'Hocamlar bayram sebebiyle pek arkadaşım kalmadı buralarda 101 oynamak isteyen varsa ulaşabilir', 'sentiment': 0}\n",
      "-----önce------\n",
      "{'subreddit_name': 'Kafes', 'title': 'Bet gecesi bizi gaza getirip, tüm sadakati kaybettirip üstüne de arda turan yüzsüzlüğüyle bişey olmaz ya  yine kasarız diyen agamıza uyguladığımız tarife:', 'permalink': '/r/Kafes/comments/1crshl4/bet_gecesi_bizi_gaza_getirip_tüm_sadakati/', 'selftext': ''}\n",
      "-------------sonra--------------------\n",
      "{'subreddit_name': 'Kafes', 'title': 'Bet gecesi bizi gaza getirip, tüm sadakati kaybettirip üstüne de arda turan yüzsüzlüğüyle bişey olmaz ya  yine kasarız diyen agamıza uyguladığımız tarife:', 'permalink': '/r/Kafes/comments/1crshl4/bet_gecesi_bizi_gaza_getirip_tüm_sadakati/', 'selftext': 'Bet gecesi bizi gaza getirip, tüm sadakati kaybettirip üstüne de arda turan yüzsüzlüğüyle bişey olmaz ya  yine kasarız diyen agamıza uyguladığımız tarife:', 'sentiment': 1}\n",
      "-----önce------\n",
      "{'subreddit_name': 'kripto', 'title': 'Terra (LUNA Coin) Kurucusundan Yeni Açıklamalar', 'permalink': '/r/kripto/comments/un6ynh/terra_luna_coin_kurucusundan_yeni_açıklamalar/', 'selftext': 'https://tr.beincrypto.com/terra-luna-coin-kurucusundan-yeni-aciklamalar/'}\n",
      "-------------sonra--------------------\n",
      "{'subreddit_name': 'kripto', 'title': 'Terra (LUNA Coin) Kurucusundan Yeni Açıklamalar', 'permalink': '/r/kripto/comments/un6ynh/terra_luna_coin_kurucusundan_yeni_açıklamalar/', 'selftext': 'https://tr.beincrypto.com/terra-luna-coin-kurucusundan-yeni-aciklamalar/', 'sentiment': 1}\n"
     ]
    },
    {
     "ename": "KeyboardInterrupt",
     "evalue": "",
     "output_type": "error",
     "traceback": [
      "\u001b[1;31m---------------------------------------------------------------------------\u001b[0m",
      "\u001b[1;31mKeyboardInterrupt\u001b[0m                         Traceback (most recent call last)",
      "Cell \u001b[1;32mIn[25], line 62\u001b[0m\n\u001b[0;32m     57\u001b[0m \u001b[38;5;28mprint\u001b[39m(submission_data)\n\u001b[0;32m     58\u001b[0m \u001b[38;5;66;03m# veritabanına ekleme\u001b[39;00m\n\u001b[1;32m---> 62\u001b[0m \u001b[43mtime\u001b[49m\u001b[38;5;241;43m.\u001b[39;49m\u001b[43msleep\u001b[49m\u001b[43m(\u001b[49m\u001b[38;5;241;43m3\u001b[39;49m\u001b[43m)\u001b[49m\n",
      "\u001b[1;31mKeyboardInterrupt\u001b[0m: "
     ]
    }
   ],
   "source": [
    "while True:\n",
    "    df_with_random = df.withColumn(\"random\", rand())\n",
    "    random_row_1 = df_with_random.orderBy(\"random\").limit(1)\n",
    "    subreddit_name = random_row_1.head()[\"Subreddits\"]\n",
    "    subreddit = reddit.subreddit(subreddit_name)\n",
    "    \n",
    "    random_hot_limit = random.randint(1, 100)\n",
    "\n",
    "    random_hot_limit = random.randint(1, 100)\n",
    "    hot_submissions = reddit.subreddit(subreddit_name).hot(limit=random_hot_limit)\n",
    "\n",
    "    # Choose a random submission from the fetched results\n",
    "    random_submission = random.choice(list(hot_submissions))\n",
    "\n",
    "    # Extract relevant information from the submission\n",
    "    submission_data = {\n",
    "        \"subreddit_name\": subreddit_name,\n",
    "        \"title\": random_submission.title,\n",
    "        \"permalink\": random_submission.permalink,\n",
    "        \"selftext\": random_submission.selftext  # Add selftext if available\n",
    "    }\n",
    "    print(\"-----önce------\")\n",
    "    print(submission_data)\n",
    "    submission_data = request_submission(submission_data)\n",
    "    print(\"-------------sonra--------------------\")\n",
    "    print(submission_data)\n",
    "    submission_data = \n",
    "    # veritabanına ekleme\n",
    "    collection = mydb[submission_data[\"subreddit_name\"]]\n",
    "    x = collection.insert_one(submission_data)\n",
    "    time.sleep(3)"
   ]
  }
 ],
 "metadata": {
  "kernelspec": {
   "display_name": "bvaProject",
   "language": "python",
   "name": "python3"
  },
  "language_info": {
   "codemirror_mode": {
    "name": "ipython",
    "version": 3
   },
   "file_extension": ".py",
   "mimetype": "text/x-python",
   "name": "python",
   "nbconvert_exporter": "python",
   "pygments_lexer": "ipython3",
   "version": "3.9.18"
  }
 },
 "nbformat": 4,
 "nbformat_minor": 2
}
