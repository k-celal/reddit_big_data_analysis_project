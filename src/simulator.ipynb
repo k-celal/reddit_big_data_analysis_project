{
 "cells": [
  {
   "cell_type": "markdown",
   "metadata": {},
   "source": [
    "# Kütüphanelerin İmport Edilmesi"
   ]
  },
  {
   "cell_type": "code",
   "execution_count": 2,
   "metadata": {},
   "outputs": [
    {
     "name": "stderr",
     "output_type": "stream",
     "text": [
      "[nltk_data] Downloading package punkt to\n",
      "[nltk_data]     C:\\Users\\celal\\AppData\\Roaming\\nltk_data...\n",
      "[nltk_data]   Unzipping tokenizers\\punkt.zip.\n",
      "[nltk_data] Downloading package stopwords to\n",
      "[nltk_data]     C:\\Users\\celal\\AppData\\Roaming\\nltk_data...\n",
      "[nltk_data]   Unzipping corpora\\stopwords.zip.\n"
     ]
    }
   ],
   "source": [
    "import pyspark \n",
    "from pyspark.sql import SparkSession\n",
    "from pyspark.sql.functions import rand\n",
    "import nltk\n",
    "nltk.download('punkt')\n",
    "nltk.download('stopwords')\n",
    "import string\n",
    "from nltk.tokenize import word_tokenize\n",
    "from nltk.corpus import stopwords\n",
    "import numpy as np\n",
    "\n"
   ]
  },
  {
   "cell_type": "markdown",
   "metadata": {},
   "source": [
    "# Spark Ortamının Hazırlanması"
   ]
  },
  {
   "cell_type": "code",
   "execution_count": 3,
   "metadata": {},
   "outputs": [],
   "source": [
    "spark = SparkSession.builder.appName(\"simulator\").master(\"local\").config(\"spark.driver.memory\", \"40g\") \\\n",
    "  .config(\"spark.executor.memory\", \"50g\").getOrCreate()"
   ]
  },
  {
   "cell_type": "code",
   "execution_count": 7,
   "metadata": {},
   "outputs": [],
   "source": [
    "import json\n",
    "\n",
    "with open('C:/Users/celal/Documents/Github/reddit_big_data_analysis_project/secret/apikey.json') as f:\n",
    "    data = json.load(f)\n",
    "    api_key = data['key']\n",
    "    client_id = data['client_id']\n",
    "    user_agent = data['user_agent']\n",
    "\n",
    "with open('C:/Users/celal/Documents/Github/reddit_big_data_analysis_project/secret/mongo.json') as m:\n",
    "    data = json.load(m)\n",
    "    conn_string = data[\"connection_string\"]"
   ]
  },
  {
   "cell_type": "code",
   "execution_count": 6,
   "metadata": {},
   "outputs": [
    {
     "name": "stdout",
     "output_type": "stream",
     "text": [
      "+-----------------+\n",
      "|       Subreddits|\n",
      "+-----------------+\n",
      "|        liseliler|\n",
      "|        Hacettepe|\n",
      "|          Yatirim|\n",
      "|           kripto|\n",
      "|           Finans|\n",
      "|         Videoyun|\n",
      "|  androidoyunclub|\n",
      "|       burdurland|\n",
      "|            Kafes|\n",
      "|sariyerbelediyesi|\n",
      "|      TurkeyJerky|\n",
      "+-----------------+\n",
      "\n"
     ]
    }
   ],
   "source": [
    "df = spark.read.csv(\"C:/Users/celal/Documents/Github/reddit_big_data_analysis_project/data/turkish-subreddits.csv\", header=True)\n",
    "df.show()"
   ]
  },
  {
   "cell_type": "code",
   "execution_count": 8,
   "metadata": {},
   "outputs": [
    {
     "data": {
      "text/plain": [
       "'androidoyunclub'"
      ]
     },
     "execution_count": 8,
     "metadata": {},
     "output_type": "execute_result"
    }
   ],
   "source": [
    "df_with_random = df.withColumn(\"random\", rand())\n",
    "random_row_1 = df_with_random.orderBy(\"random\").limit(1)\n",
    "random_row_1.head()[\"Subreddits\"]"
   ]
  },
  {
   "cell_type": "markdown",
   "metadata": {},
   "source": [
    "# Praw kütüphanesi kullanılarak reddit veri çekilmesi"
   ]
  },
  {
   "cell_type": "code",
   "execution_count": 9,
   "metadata": {},
   "outputs": [],
   "source": [
    "import praw"
   ]
  },
  {
   "cell_type": "code",
   "execution_count": 10,
   "metadata": {},
   "outputs": [],
   "source": [
    "# PRAW ile Reddit'e bağlan\n",
    "reddit = praw.Reddit(\n",
    "    client_id=client_id,\n",
    "    client_secret=api_key,\n",
    "    user_agent=user_agent\n",
    ")\n"
   ]
  },
  {
   "cell_type": "code",
   "execution_count": 11,
   "metadata": {},
   "outputs": [],
   "source": [
    "import requests as req\n",
    "import time \n",
    "import random\n",
    "\n",
    "import pymongo"
   ]
  },
  {
   "cell_type": "code",
   "execution_count": 12,
   "metadata": {},
   "outputs": [],
   "source": [
    "mongo_client = pymongo.MongoClient(conn_string)\n",
    "\n",
    "mydb = mongo_client[\"bigData\"]"
   ]
  },
  {
   "cell_type": "markdown",
   "metadata": {},
   "source": [
    "# Verinin geçeceği transform işlemi"
   ]
  },
  {
   "cell_type": "code",
   "execution_count": 13,
   "metadata": {},
   "outputs": [],
   "source": [
    "def preprocess_text(text):\n",
    "    text = text.translate(str.maketrans('', '', string.punctuation))\n",
    "    \n",
    "    text = text.lower()\n",
    "    \n",
    "    text = ' '.join(text.split())\n",
    "    \n",
    "    return text"
   ]
  },
  {
   "cell_type": "code",
   "execution_count": 14,
   "metadata": {},
   "outputs": [],
   "source": [
    "def remove_stopwords(text):\n",
    "    tokens = word_tokenize(text)\n",
    "    \n",
    "    stop_words = set(stopwords.words('turkish'))\n",
    "    \n",
    "    filtered_tokens = [token for token in tokens if token.lower() not in stop_words]\n",
    "    \n",
    "    filtered_text = ' '.join(filtered_tokens)\n",
    "    \n",
    "    return filtered_text"
   ]
  },
  {
   "cell_type": "code",
   "execution_count": 15,
   "metadata": {},
   "outputs": [],
   "source": [
    "def Transformation(submission_data):\n",
    "    # Eğer selftext değişkeni boşsa\n",
    "    if not submission_data[\"selftext\"]:\n",
    "        # subreddit_name değişkenini selftext olarak kullan\n",
    "        submission_data[\"selftext\"] = submission_data[\"subreddit_name\"]\n",
    "    submission_data[\"selftext\"] = remove_stopwords(preprocess_text(submission_data[\"selftext\"]))\n",
    "    submission_data[\"title\"] = remove_stopwords(preprocess_text(submission_data[\"title\"]))\n",
    "    return submission_data"
   ]
  },
  {
   "cell_type": "markdown",
   "metadata": {},
   "source": [
    "# Sentiment tahmini için Apiye istek atılması"
   ]
  },
  {
   "cell_type": "code",
   "execution_count": 16,
   "metadata": {},
   "outputs": [],
   "source": [
    "def request_submission(submission_data):\n",
    "    url = \"http://127.0.0.1:8080/sentiment\"  \n",
    "\n",
    "    if not submission_data.get(\"selftext\"):\n",
    "        submission_data[\"selftext\"] = submission_data[\"title\"]\n",
    "\n",
    "    body = {\n",
    "        \"text\" : submission_data[\"selftext\"]\n",
    "    }\n",
    "\n",
    "    \n",
    "    # JSON verisini oluştur\n",
    "    payload = json.dumps(body)\n",
    "    \n",
    "    # POST isteği gönder\n",
    "    response = req.post(url, data=payload, headers={'Content-Type': 'application/json'})\n",
    "    \n",
    "    # Yanıtı kontrol et\n",
    "    if response.status_code == 200:\n",
    "        #print(\"Submission successfully posted!\")\n",
    "        response_data = response.json()  # Yanıtı JSON formatında al\n",
    "        submission_data[\"sentiment\"] = response_data.get(\"sentiment\", -1)\n",
    "    else:\n",
    "        print(f\"Failed to post submission. Status code: {response.status_code}, Response: {response.text}\")\n",
    "\n",
    "    \n",
    "    return submission_data"
   ]
  },
  {
   "cell_type": "markdown",
   "metadata": {},
   "source": [
    "# Main"
   ]
  },
  {
   "cell_type": "code",
   "execution_count": 18,
   "metadata": {},
   "outputs": [
    {
     "name": "stdout",
     "output_type": "stream",
     "text": [
      "-----önce------\n",
      "{'subreddit_name': 'Yatirim', 'title': 'Hahahaha bu ne ya?', 'permalink': '/r/Yatirim/comments/1d2mjdz/hahahaha_bu_ne_ya/', 'selftext': ''}\n",
      "-------------sonra--------------------\n",
      "{'subreddit_name': 'Yatirim', 'title': 'Hahahaha bu ne ya?', 'permalink': '/r/Yatirim/comments/1d2mjdz/hahahaha_bu_ne_ya/', 'selftext': 'Hahahaha bu ne ya?', 'sentiment': 1}\n",
      "-----önce------\n",
      "{'subreddit_name': 'kripto', 'title': 'Binance referans kodu en fazla %20 mi indirim sağlıyor?', 'permalink': '/r/kripto/comments/17y9tic/binance_referans_kodu_en_fazla_20_mi_indirim/', 'selftext': '[https://www.karekod.org/blog/binance-referans-kodu-nedir/](https://www.karekod.org/blog/binance-referans-kodu-nedir/) burada Binance referans kodu en fazla %20 komisyon indirimi sağladığı yazmakta. Bazı sitelerde  %45 komisyon indirimi yazıyor. Buna BNB indirimi mi dahil ediyorlar?\\n\\n[View Poll](https://www.reddit.com/poll/17y9tic)'}\n",
      "-------------sonra--------------------\n",
      "{'subreddit_name': 'kripto', 'title': 'Binance referans kodu en fazla %20 mi indirim sağlıyor?', 'permalink': '/r/kripto/comments/17y9tic/binance_referans_kodu_en_fazla_20_mi_indirim/', 'selftext': '[https://www.karekod.org/blog/binance-referans-kodu-nedir/](https://www.karekod.org/blog/binance-referans-kodu-nedir/) burada Binance referans kodu en fazla %20 komisyon indirimi sağladığı yazmakta. Bazı sitelerde  %45 komisyon indirimi yazıyor. Buna BNB indirimi mi dahil ediyorlar?\\n\\n[View Poll](https://www.reddit.com/poll/17y9tic)', 'sentiment': 1}\n",
      "-----önce------\n",
      "{'subreddit_name': 'Hacettepe', 'title': '24 yaşında burada bir iibf bölümüne başlamak istiyorum ama...', 'permalink': '/r/Hacettepe/comments/1c9ezc4/24_yaşında_burada_bir_iibf_bölümüne_başlamak/', 'selftext': 'Daha önce 2 farklı okul bıraktım depresyon yüzünden ve yüksek lisansla bir yere gelmeyi gözden çıkardım. Sadece diplomanın yanına birşeyler koyarak ve üniversiteyi deneyimleyerek mezun olmak istiyorum. 24 yaşında burada başlayıp sıfırdan bir çevre kurmak sizce zor olur mu? Okulun öğrenci profili hakkında pek bir fikrim yok ama iyi şeyler duydum. Ayrıca bu yaşta iibfye girmek sizce mantıklı bir fikir mi yani iş bulma bakımından geç yaş çok sorun olur mu bu konuda okul ne kadar yardımcı oluyor ? Hacettepenin beni iyileştireceğini düşünüyorum açıkçası ama emin değilim.'}\n",
      "-------------sonra--------------------\n",
      "{'subreddit_name': 'Hacettepe', 'title': '24 yaşında burada bir iibf bölümüne başlamak istiyorum ama...', 'permalink': '/r/Hacettepe/comments/1c9ezc4/24_yaşında_burada_bir_iibf_bölümüne_başlamak/', 'selftext': 'Daha önce 2 farklı okul bıraktım depresyon yüzünden ve yüksek lisansla bir yere gelmeyi gözden çıkardım. Sadece diplomanın yanına birşeyler koyarak ve üniversiteyi deneyimleyerek mezun olmak istiyorum. 24 yaşında burada başlayıp sıfırdan bir çevre kurmak sizce zor olur mu? Okulun öğrenci profili hakkında pek bir fikrim yok ama iyi şeyler duydum. Ayrıca bu yaşta iibfye girmek sizce mantıklı bir fikir mi yani iş bulma bakımından geç yaş çok sorun olur mu bu konuda okul ne kadar yardımcı oluyor ? Hacettepenin beni iyileştireceğini düşünüyorum açıkçası ama emin değilim.', 'sentiment': 1}\n"
     ]
    },
    {
     "ename": "KeyboardInterrupt",
     "evalue": "",
     "output_type": "error",
     "traceback": [
      "\u001b[1;31m---------------------------------------------------------------------------\u001b[0m",
      "\u001b[1;31mKeyboardInterrupt\u001b[0m                         Traceback (most recent call last)",
      "Cell \u001b[1;32mIn[18], line 31\u001b[0m\n\u001b[0;32m     29\u001b[0m collection \u001b[38;5;241m=\u001b[39m mydb[submission_data[\u001b[38;5;124m\"\u001b[39m\u001b[38;5;124msubreddit_name\u001b[39m\u001b[38;5;124m\"\u001b[39m]]\n\u001b[0;32m     30\u001b[0m x \u001b[38;5;241m=\u001b[39m collection\u001b[38;5;241m.\u001b[39minsert_one(submission_data)\n\u001b[1;32m---> 31\u001b[0m \u001b[43mtime\u001b[49m\u001b[38;5;241;43m.\u001b[39;49m\u001b[43msleep\u001b[49m\u001b[43m(\u001b[49m\u001b[38;5;241;43m3\u001b[39;49m\u001b[43m)\u001b[49m\n",
      "\u001b[1;31mKeyboardInterrupt\u001b[0m: "
     ]
    }
   ],
   "source": [
    "while True:\n",
    "    df_with_random = df.withColumn(\"random\", rand())\n",
    "    random_row_1 = df_with_random.orderBy(\"random\").limit(1)\n",
    "    subreddit_name = random_row_1.head()[\"Subreddits\"]\n",
    "    subreddit = reddit.subreddit(subreddit_name)\n",
    "    \n",
    "    random_hot_limit = random.randint(1, 100)\n",
    "\n",
    "    random_hot_limit = random.randint(1, 100)\n",
    "    hot_submissions = reddit.subreddit(subreddit_name).hot(limit=random_hot_limit)\n",
    "\n",
    "    # Choose a random submission from the fetched results\n",
    "    random_submission = random.choice(list(hot_submissions))\n",
    "\n",
    "    # Extract relevant information from the submission\n",
    "    submission_data = {\n",
    "        \"subreddit_name\": subreddit_name,\n",
    "        \"title\": random_submission.title,\n",
    "        \"permalink\": random_submission.permalink,\n",
    "        \"selftext\": random_submission.selftext  # Add selftext if available\n",
    "    }\n",
    "    print(\"-----önce------\")\n",
    "    print(submission_data)\n",
    "    submission_data = request_submission(submission_data)\n",
    "    print(\"-------------sonra--------------------\")\n",
    "    print(submission_data)\n",
    "    submission_data = Transformation(submission_data)\n",
    "    # veritabanına ekleme\n",
    "    collection = mydb[submission_data[\"subreddit_name\"]]\n",
    "    x = collection.insert_one(submission_data)\n",
    "    time.sleep(3)"
   ]
  },
  {
   "cell_type": "code",
   "execution_count": null,
   "metadata": {},
   "outputs": [],
   "source": []
  }
 ],
 "metadata": {
  "kernelspec": {
   "display_name": "bvaProject",
   "language": "python",
   "name": "python3"
  },
  "language_info": {
   "codemirror_mode": {
    "name": "ipython",
    "version": 3
   },
   "file_extension": ".py",
   "mimetype": "text/x-python",
   "name": "python",
   "nbconvert_exporter": "python",
   "pygments_lexer": "ipython3",
   "version": "3.9.18"
  }
 },
 "nbformat": 4,
 "nbformat_minor": 2
}
